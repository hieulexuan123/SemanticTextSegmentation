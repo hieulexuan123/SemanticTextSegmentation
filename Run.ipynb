{
 "cells": [
  {
   "cell_type": "code",
   "execution_count": 1,
   "id": "831bf88d",
   "metadata": {},
   "outputs": [],
   "source": [
    "import torch\n",
    "from model.data_loader import get_data_loader"
   ]
  },
  {
   "cell_type": "code",
   "execution_count": 2,
   "id": "2d99b5cb",
   "metadata": {},
   "outputs": [],
   "source": [
    "batch_size = 32\n",
    "\n",
    "train_loader = get_data_loader('train', batch_size=batch_size, shuffle=True)\n",
    "val_loader = get_data_loader('val', batch_size=batch_size, shuffle=False)\n",
    "test_loader = get_data_loader('test', batch_size=batch_size, shuffle=False)"
   ]
  },
  {
   "cell_type": "code",
   "execution_count": 3,
   "id": "fcfe349e",
   "metadata": {},
   "outputs": [
    {
     "name": "stdout",
     "output_type": "stream",
     "text": [
      "torch.Size([32, 27, 768]) torch.Size([32, 27])\n",
      "torch.Size([32, 37, 768]) torch.Size([32, 37])\n",
      "torch.Size([32, 30, 768]) torch.Size([32, 30])\n",
      "torch.Size([32, 26, 768]) torch.Size([32, 26])\n",
      "torch.Size([32, 27, 768]) torch.Size([32, 27])\n",
      "torch.Size([32, 31, 768]) torch.Size([32, 31])\n",
      "torch.Size([32, 29, 768]) torch.Size([32, 29])\n",
      "torch.Size([32, 39, 768]) torch.Size([32, 39])\n",
      "torch.Size([32, 28, 768]) torch.Size([32, 28])\n",
      "torch.Size([32, 27, 768]) torch.Size([32, 27])\n",
      "torch.Size([32, 33, 768]) torch.Size([32, 33])\n",
      "torch.Size([32, 31, 768]) torch.Size([32, 31])\n",
      "torch.Size([32, 35, 768]) torch.Size([32, 35])\n",
      "torch.Size([32, 25, 768]) torch.Size([32, 25])\n",
      "torch.Size([32, 32, 768]) torch.Size([32, 32])\n",
      "torch.Size([32, 30, 768]) torch.Size([32, 30])\n",
      "torch.Size([32, 31, 768]) torch.Size([32, 31])\n",
      "torch.Size([32, 30, 768]) torch.Size([32, 30])\n",
      "torch.Size([32, 36, 768]) torch.Size([32, 36])\n",
      "torch.Size([32, 35, 768]) torch.Size([32, 35])\n",
      "torch.Size([32, 30, 768]) torch.Size([32, 30])\n",
      "torch.Size([32, 38, 768]) torch.Size([32, 38])\n",
      "torch.Size([32, 27, 768]) torch.Size([32, 27])\n",
      "torch.Size([32, 31, 768]) torch.Size([32, 31])\n",
      "torch.Size([32, 36, 768]) torch.Size([32, 36])\n",
      "torch.Size([32, 34, 768]) torch.Size([32, 34])\n",
      "torch.Size([32, 27, 768]) torch.Size([32, 27])\n",
      "torch.Size([32, 26, 768]) torch.Size([32, 26])\n",
      "torch.Size([32, 34, 768]) torch.Size([32, 34])\n",
      "torch.Size([32, 29, 768]) torch.Size([32, 29])\n",
      "torch.Size([32, 28, 768]) torch.Size([32, 28])\n",
      "torch.Size([32, 34, 768]) torch.Size([32, 34])\n",
      "torch.Size([32, 36, 768]) torch.Size([32, 36])\n",
      "torch.Size([32, 37, 768]) torch.Size([32, 37])\n",
      "torch.Size([32, 34, 768]) torch.Size([32, 34])\n",
      "torch.Size([32, 26, 768]) torch.Size([32, 26])\n",
      "torch.Size([32, 32, 768]) torch.Size([32, 32])\n",
      "torch.Size([32, 43, 768]) torch.Size([32, 43])\n",
      "torch.Size([29, 31, 768]) torch.Size([29, 31])\n"
     ]
    }
   ],
   "source": [
    "for embeddings, labels in train_loader:\n",
    "    print(embeddings.size(), labels.size())"
   ]
  },
  {
   "cell_type": "code",
   "execution_count": 4,
   "id": "7fe0cd9f",
   "metadata": {},
   "outputs": [],
   "source": [
    "from model.train import train\n",
    "from model.net import Net\n",
    "import torch.optim as optim\n",
    "import torch.nn as nn"
   ]
  },
  {
   "cell_type": "code",
   "execution_count": 5,
   "id": "d3a49066",
   "metadata": {},
   "outputs": [],
   "source": [
    "params = {\n",
    "    \"learning_rate\": 0.001,\n",
    "    \"num_epochs\": 50,\n",
    "    \"hidden_dim\": 200,\n",
    "    \"num_layers\": 5,\n",
    "    \"dropout\": 0.3\n",
    "}"
   ]
  },
  {
   "cell_type": "code",
   "execution_count": 6,
   "id": "519fd049",
   "metadata": {},
   "outputs": [],
   "source": [
    "model = Net(params)\n",
    "optimizer = optim.Adam(model.parameters(), lr=params['learning_rate'])\n",
    "loss_fn = nn.NLLLoss(weight = torch.FloatTensor([1, 4]), ignore_index=-1)"
   ]
  },
  {
   "cell_type": "code",
   "execution_count": 7,
   "id": "c3b24030",
   "metadata": {},
   "outputs": [
    {
     "name": "stdout",
     "output_type": "stream",
     "text": [
      "Net(\n",
      "  (lstm): LSTM(768, 200, num_layers=5, batch_first=True, dropout=0.3, bidirectional=True)\n",
      "  (fc): Linear(in_features=400, out_features=2, bias=True)\n",
      ")\n",
      "NLLLoss()\n"
     ]
    }
   ],
   "source": [
    "print(model)\n",
    "print(loss_fn)"
   ]
  },
  {
   "cell_type": "code",
   "execution_count": 8,
   "id": "4673fd30",
   "metadata": {},
   "outputs": [
    {
     "name": "stderr",
     "output_type": "stream",
     "text": [
      "\r",
      "  0%|                                                                                           | 0/50 [00:00<?, ?it/s]"
     ]
    },
    {
     "name": "stdout",
     "output_type": "stream",
     "text": [
      "Epoch 1/50: Train_loss = 0.6466706395149231, Val_loss = 0.5978855490684509, Val_acc = 0.691896514859953\n"
     ]
    },
    {
     "name": "stderr",
     "output_type": "stream",
     "text": [
      "\r",
      "  2%|█▋                                                                                 | 1/50 [00:29<23:59, 29.37s/it]"
     ]
    },
    {
     "name": "stdout",
     "output_type": "stream",
     "text": [
      "Found new best accuracy: 0.691896514859953\n"
     ]
    },
    {
     "name": "stderr",
     "output_type": "stream",
     "text": [
      "\r",
      "  4%|███▎                                                                               | 2/50 [00:57<23:07, 28.91s/it]"
     ]
    },
    {
     "name": "stdout",
     "output_type": "stream",
     "text": [
      "Epoch 2/50: Train_loss = 0.596277117729187, Val_loss = 0.5811776518821716, Val_acc = 0.6602522984819329\n"
     ]
    },
    {
     "name": "stderr",
     "output_type": "stream",
     "text": [
      "\r",
      "  6%|████▉                                                                              | 3/50 [01:26<22:33, 28.80s/it]"
     ]
    },
    {
     "name": "stdout",
     "output_type": "stream",
     "text": [
      "Epoch 3/50: Train_loss = 0.5718321800231934, Val_loss = 0.5462144017219543, Val_acc = 0.6230489630104769\n",
      "Epoch 4/50: Train_loss = 0.5101842880249023, Val_loss = 0.5119049549102783, Val_acc = 0.7177677998717127\n"
     ]
    },
    {
     "name": "stderr",
     "output_type": "stream",
     "text": [
      "\r",
      "  8%|██████▋                                                                            | 4/50 [01:55<22:08, 28.89s/it]"
     ]
    },
    {
     "name": "stdout",
     "output_type": "stream",
     "text": [
      "Found new best accuracy: 0.7177677998717127\n",
      "Epoch 5/50: Train_loss = 0.4581264555454254, Val_loss = 0.5197594165802002, Val_acc = 0.7310241607868292\n"
     ]
    },
    {
     "name": "stderr",
     "output_type": "stream",
     "text": [
      "\r",
      " 10%|████████▎                                                                          | 5/50 [02:24<21:35, 28.79s/it]"
     ]
    },
    {
     "name": "stdout",
     "output_type": "stream",
     "text": [
      "Found new best accuracy: 0.7310241607868292\n",
      "Epoch 6/50: Train_loss = 0.38568952679634094, Val_loss = 0.5220564603805542, Val_acc = 0.7641650630746205\n"
     ]
    },
    {
     "name": "stderr",
     "output_type": "stream",
     "text": [
      "\r",
      " 12%|█████████▉                                                                         | 6/50 [02:53<21:14, 28.97s/it]"
     ]
    },
    {
     "name": "stdout",
     "output_type": "stream",
     "text": [
      "Found new best accuracy: 0.7641650630746205\n",
      "Epoch 7/50: Train_loss = 0.30714505910873413, Val_loss = 0.5827211737632751, Val_acc = 0.7742142398973701\n"
     ]
    },
    {
     "name": "stderr",
     "output_type": "stream",
     "text": [
      "\r",
      " 14%|███████████▌                                                                       | 7/50 [03:23<20:59, 29.29s/it]"
     ]
    },
    {
     "name": "stdout",
     "output_type": "stream",
     "text": [
      "Found new best accuracy: 0.7742142398973701\n",
      "Epoch 8/50: Train_loss = 0.2349952757358551, Val_loss = 0.7212062478065491, Val_acc = 0.790463972632029\n"
     ]
    },
    {
     "name": "stderr",
     "output_type": "stream",
     "text": [
      "\r",
      " 16%|█████████████▎                                                                     | 8/50 [03:51<20:17, 28.99s/it]"
     ]
    },
    {
     "name": "stdout",
     "output_type": "stream",
     "text": [
      "Found new best accuracy: 0.790463972632029\n"
     ]
    },
    {
     "name": "stderr",
     "output_type": "stream",
     "text": [
      "\r",
      " 18%|██████████████▉                                                                    | 9/50 [04:21<19:52, 29.08s/it]"
     ]
    },
    {
     "name": "stdout",
     "output_type": "stream",
     "text": [
      "Epoch 9/50: Train_loss = 0.17086856067180634, Val_loss = 0.8776625990867615, Val_acc = 0.7842634167201198\n"
     ]
    },
    {
     "name": "stderr",
     "output_type": "stream",
     "text": [
      "\r",
      " 20%|████████████████▍                                                                 | 10/50 [04:49<19:15, 28.89s/it]"
     ]
    },
    {
     "name": "stdout",
     "output_type": "stream",
     "text": [
      "Epoch 10/50: Train_loss = 0.13488441705703735, Val_loss = 0.9158948063850403, Val_acc = 0.7816976694462262\n",
      "Epoch 11/50: Train_loss = 0.10896874964237213, Val_loss = 1.0727858543395996, Val_acc = 0.804361770365619\n"
     ]
    },
    {
     "name": "stderr",
     "output_type": "stream",
     "text": [
      "\r",
      " 22%|██████████████████                                                                | 11/50 [05:18<18:46, 28.89s/it]"
     ]
    },
    {
     "name": "stdout",
     "output_type": "stream",
     "text": [
      "Found new best accuracy: 0.804361770365619\n",
      "Epoch 12/50: Train_loss = 0.08101815730333328, Val_loss = 1.1791331768035889, Val_acc = 0.8227496258285225\n"
     ]
    },
    {
     "name": "stderr",
     "output_type": "stream",
     "text": [
      "\r",
      " 24%|███████████████████▋                                                              | 12/50 [05:48<18:30, 29.21s/it]"
     ]
    },
    {
     "name": "stdout",
     "output_type": "stream",
     "text": [
      "Found new best accuracy: 0.8227496258285225\n"
     ]
    },
    {
     "name": "stderr",
     "output_type": "stream",
     "text": [
      "\r",
      " 26%|█████████████████████▎                                                            | 13/50 [06:19<18:21, 29.78s/it]"
     ]
    },
    {
     "name": "stdout",
     "output_type": "stream",
     "text": [
      "Epoch 13/50: Train_loss = 0.07182104140520096, Val_loss = 1.1593985557556152, Val_acc = 0.7990164635450074\n",
      "Epoch 14/50: Train_loss = 0.05518626049160957, Val_loss = 1.356061339378357, Val_acc = 0.8135556980970707\n"
     ]
    },
    {
     "name": "stderr",
     "output_type": "stream",
     "text": [
      " 30%|████████████████████████▌                                                         | 15/50 [07:35<19:37, 33.64s/it]"
     ]
    },
    {
     "name": "stdout",
     "output_type": "stream",
     "text": [
      "Epoch 15/50: Train_loss = 0.04578346386551857, Val_loss = 1.460874319076538, Val_acc = 0.8118451999144751\n"
     ]
    },
    {
     "name": "stderr",
     "output_type": "stream",
     "text": [
      "\r",
      " 32%|██████████████████████████▏                                                       | 16/50 [08:04<18:18, 32.32s/it]"
     ]
    },
    {
     "name": "stdout",
     "output_type": "stream",
     "text": [
      "Epoch 16/50: Train_loss = 0.03834118694067001, Val_loss = 1.3969428539276123, Val_acc = 0.8203976908274535\n"
     ]
    },
    {
     "name": "stderr",
     "output_type": "stream",
     "text": [
      "\r",
      " 34%|███████████████████████████▉                                                      | 17/50 [08:36<17:39, 32.10s/it]"
     ]
    },
    {
     "name": "stdout",
     "output_type": "stream",
     "text": [
      "Epoch 17/50: Train_loss = 0.03552236780524254, Val_loss = 1.5611149072647095, Val_acc = 0.8112037630960017\n"
     ]
    },
    {
     "name": "stderr",
     "output_type": "stream",
     "text": [
      "\r",
      " 36%|█████████████████████████████▌                                                    | 18/50 [09:04<16:36, 31.14s/it]"
     ]
    },
    {
     "name": "stdout",
     "output_type": "stream",
     "text": [
      "Epoch 18/50: Train_loss = 0.030312782153487206, Val_loss = 1.3911397457122803, Val_acc = 0.8163352576437888\n"
     ]
    },
    {
     "name": "stderr",
     "output_type": "stream",
     "text": [
      "\r",
      " 38%|███████████████████████████████▏                                                  | 19/50 [09:34<15:53, 30.76s/it]"
     ]
    },
    {
     "name": "stdout",
     "output_type": "stream",
     "text": [
      "Epoch 19/50: Train_loss = 0.024217216297984123, Val_loss = 1.7514958381652832, Val_acc = 0.820183878554629\n",
      "Epoch 20/50: Train_loss = 0.025733422487974167, Val_loss = 1.5941482782363892, Val_acc = 0.8193286294633312\n"
     ]
    },
    {
     "name": "stderr",
     "output_type": "stream",
     "text": [
      "\r",
      " 40%|████████████████████████████████▊                                                 | 20/50 [10:16<17:04, 34.16s/it]"
     ]
    },
    {
     "name": "stdout",
     "output_type": "stream",
     "text": [
      "Epoch 21/50: Train_loss = 0.024634432047605515, Val_loss = 1.597591757774353, Val_acc = 0.8163352576437888\n"
     ]
    },
    {
     "name": "stderr",
     "output_type": "stream",
     "text": [
      "\r",
      " 42%|██████████████████████████████████▍                                               | 21/50 [11:09<19:11, 39.71s/it]"
     ]
    },
    {
     "name": "stdout",
     "output_type": "stream",
     "text": [
      "Epoch 22/50: Train_loss = 0.019231343641877174, Val_loss = 1.6052271127700806, Val_acc = 0.8073551421851615\n"
     ]
    },
    {
     "name": "stderr",
     "output_type": "stream",
     "text": [
      " 46%|█████████████████████████████████████▋                                            | 23/50 [12:42<19:10, 42.60s/it]"
     ]
    },
    {
     "name": "stdout",
     "output_type": "stream",
     "text": [
      "Epoch 23/50: Train_loss = 0.016014263033866882, Val_loss = 1.7921916246414185, Val_acc = 0.812700449005773\n",
      "Epoch 24/50: Train_loss = 0.021534856408834457, Val_loss = 1.6834945678710938, Val_acc = 0.8156938208253154\n"
     ]
    },
    {
     "name": "stderr",
     "output_type": "stream",
     "text": [
      " 50%|█████████████████████████████████████████                                         | 25/50 [13:54<16:22, 39.29s/it]"
     ]
    },
    {
     "name": "stdout",
     "output_type": "stream",
     "text": [
      "Epoch 25/50: Train_loss = 0.017789052799344063, Val_loss = 1.7047423124313354, Val_acc = 0.8000855249091298\n"
     ]
    },
    {
     "name": "stderr",
     "output_type": "stream",
     "text": [
      "\r",
      " 52%|██████████████████████████████████████████▋                                       | 26/50 [14:30<15:13, 38.08s/it]"
     ]
    },
    {
     "name": "stdout",
     "output_type": "stream",
     "text": [
      "Epoch 26/50: Train_loss = 0.014237322844564915, Val_loss = 1.8184078931808472, Val_acc = 0.8114175753688262\n"
     ]
    },
    {
     "name": "stderr",
     "output_type": "stream",
     "text": [
      "\r",
      " 54%|████████████████████████████████████████████▎                                     | 27/50 [14:59<13:33, 35.36s/it]"
     ]
    },
    {
     "name": "stdout",
     "output_type": "stream",
     "text": [
      "Epoch 27/50: Train_loss = 0.012462937273085117, Val_loss = 1.894086241722107, Val_acc = 0.8107761385503528\n",
      "Epoch 28/50: Train_loss = 0.015881549566984177, Val_loss = 1.7745306491851807, Val_acc = 0.8268120590121874\n"
     ]
    },
    {
     "name": "stderr",
     "output_type": "stream",
     "text": [
      "\r",
      " 56%|█████████████████████████████████████████████▉                                    | 28/50 [15:29<12:22, 33.75s/it]"
     ]
    },
    {
     "name": "stdout",
     "output_type": "stream",
     "text": [
      "Found new best accuracy: 0.8268120590121874\n"
     ]
    },
    {
     "name": "stderr",
     "output_type": "stream",
     "text": [
      "\r",
      " 58%|███████████████████████████████████████████████▌                                  | 29/50 [15:57<11:15, 32.18s/it]"
     ]
    },
    {
     "name": "stdout",
     "output_type": "stream",
     "text": [
      "Epoch 29/50: Train_loss = 0.01718773879110813, Val_loss = 1.7483676671981812, Val_acc = 0.8169766944622622\n"
     ]
    },
    {
     "name": "stderr",
     "output_type": "stream",
     "text": [
      "\r",
      " 60%|█████████████████████████████████████████████████▏                                | 30/50 [16:26<10:24, 31.24s/it]"
     ]
    },
    {
     "name": "stdout",
     "output_type": "stream",
     "text": [
      "Epoch 30/50: Train_loss = 0.017784204334020615, Val_loss = 1.7045073509216309, Val_acc = 0.8062860808210391\n",
      "Epoch 31/50: Train_loss = 0.009269297122955322, Val_loss = 1.986225962638855, Val_acc = 0.8171905067350866\n"
     ]
    },
    {
     "name": "stderr",
     "output_type": "stream",
     "text": [
      "\r",
      " 62%|██████████████████████████████████████████████████▊                               | 31/50 [16:57<09:50, 31.06s/it]"
     ]
    },
    {
     "name": "stdout",
     "output_type": "stream",
     "text": [
      "Epoch 32/50: Train_loss = 0.011885061860084534, Val_loss = 1.8047837018966675, Val_acc = 0.8118451999144751\n"
     ]
    },
    {
     "name": "stderr",
     "output_type": "stream",
     "text": [
      " 66%|██████████████████████████████████████████████████████                            | 33/50 [18:23<10:43, 37.84s/it]"
     ]
    },
    {
     "name": "stdout",
     "output_type": "stream",
     "text": [
      "Epoch 33/50: Train_loss = 0.010835322551429272, Val_loss = 1.9679895639419556, Val_acc = 0.820183878554629\n"
     ]
    },
    {
     "name": "stderr",
     "output_type": "stream",
     "text": [
      "\r",
      " 68%|███████████████████████████████████████████████████████▊                          | 34/50 [18:54<09:34, 35.92s/it]"
     ]
    },
    {
     "name": "stdout",
     "output_type": "stream",
     "text": [
      "Epoch 34/50: Train_loss = 0.013156505301594734, Val_loss = 1.9831117391586304, Val_acc = 0.8210391276459269\n"
     ]
    },
    {
     "name": "stderr",
     "output_type": "stream",
     "text": [
      "\r",
      " 70%|█████████████████████████████████████████████████████████▍                        | 35/50 [19:25<08:33, 34.22s/it]"
     ]
    },
    {
     "name": "stdout",
     "output_type": "stream",
     "text": [
      "Epoch 35/50: Train_loss = 0.010812925174832344, Val_loss = 1.8905972242355347, Val_acc = 0.8146247594611931\n"
     ]
    },
    {
     "name": "stderr",
     "output_type": "stream",
     "text": [
      "\r",
      " 72%|███████████████████████████████████████████████████████████                       | 36/50 [19:54<07:37, 32.70s/it]"
     ]
    },
    {
     "name": "stdout",
     "output_type": "stream",
     "text": [
      "Epoch 36/50: Train_loss = 0.011343729682266712, Val_loss = 1.924241542816162, Val_acc = 0.8156938208253154\n"
     ]
    },
    {
     "name": "stderr",
     "output_type": "stream",
     "text": [
      "\r",
      " 74%|████████████████████████████████████████████████████████████▋                     | 37/50 [20:22<06:46, 31.26s/it]"
     ]
    },
    {
     "name": "stdout",
     "output_type": "stream",
     "text": [
      "Epoch 37/50: Train_loss = 0.015763023868203163, Val_loss = 1.6797012090682983, Val_acc = 0.8047893949112679\n"
     ]
    },
    {
     "name": "stderr",
     "output_type": "stream",
     "text": [
      "\r",
      " 76%|██████████████████████████████████████████████████████████████▎                   | 38/50 [20:50<06:04, 30.36s/it]"
     ]
    },
    {
     "name": "stdout",
     "output_type": "stream",
     "text": [
      "Epoch 38/50: Train_loss = 0.012425445951521397, Val_loss = 1.8256492614746094, Val_acc = 0.8208253153731024\n"
     ]
    },
    {
     "name": "stderr",
     "output_type": "stream",
     "text": [
      "\r",
      " 78%|███████████████████████████████████████████████████████████████▉                  | 39/50 [21:19<05:29, 29.98s/it]"
     ]
    },
    {
     "name": "stdout",
     "output_type": "stream",
     "text": [
      "Epoch 39/50: Train_loss = 0.011648113839328289, Val_loss = 1.777528166770935, Val_acc = 0.80393414581997\n"
     ]
    },
    {
     "name": "stderr",
     "output_type": "stream",
     "text": [
      "\r",
      " 80%|█████████████████████████████████████████████████████████████████▌                | 40/50 [21:48<04:57, 29.76s/it]"
     ]
    },
    {
     "name": "stdout",
     "output_type": "stream",
     "text": [
      "Epoch 40/50: Train_loss = 0.014941849745810032, Val_loss = 1.8444875478744507, Val_acc = 0.8263844344665384\n"
     ]
    },
    {
     "name": "stderr",
     "output_type": "stream",
     "text": [
      "\r",
      " 82%|███████████████████████████████████████████████████████████████████▏              | 41/50 [22:17<04:25, 29.49s/it]"
     ]
    },
    {
     "name": "stdout",
     "output_type": "stream",
     "text": [
      "Epoch 41/50: Train_loss = 0.008322703652083874, Val_loss = 2.015268087387085, Val_acc = 0.8169766944622622\n"
     ]
    },
    {
     "name": "stderr",
     "output_type": "stream",
     "text": [
      "\r",
      " 84%|████████████████████████████████████████████████████████████████████▉             | 42/50 [22:47<03:57, 29.71s/it]"
     ]
    },
    {
     "name": "stdout",
     "output_type": "stream",
     "text": [
      "Epoch 42/50: Train_loss = 0.007644896861165762, Val_loss = 2.111262321472168, Val_acc = 0.8073551421851615\n"
     ]
    },
    {
     "name": "stderr",
     "output_type": "stream",
     "text": [
      "\r",
      " 86%|██████████████████████████████████████████████████████████████████████▌           | 43/50 [23:16<03:26, 29.49s/it]"
     ]
    },
    {
     "name": "stdout",
     "output_type": "stream",
     "text": [
      "Epoch 43/50: Train_loss = 0.006123962812125683, Val_loss = 2.2608230113983154, Val_acc = 0.8159076330981399\n"
     ]
    },
    {
     "name": "stderr",
     "output_type": "stream",
     "text": [
      "\r",
      " 88%|████████████████████████████████████████████████████████████████████████▏         | 44/50 [23:45<02:55, 29.24s/it]"
     ]
    },
    {
     "name": "stdout",
     "output_type": "stream",
     "text": [
      "Epoch 44/50: Train_loss = 0.0037513573188334703, Val_loss = 2.3361318111419678, Val_acc = 0.8154800085524909\n"
     ]
    },
    {
     "name": "stderr",
     "output_type": "stream",
     "text": [
      "\r",
      " 90%|█████████████████████████████████████████████████████████████████████████▊        | 45/50 [24:13<02:24, 28.98s/it]"
     ]
    },
    {
     "name": "stdout",
     "output_type": "stream",
     "text": [
      "Epoch 45/50: Train_loss = 0.005901936441659927, Val_loss = 2.303920269012451, Val_acc = 0.8242463117382938\n"
     ]
    },
    {
     "name": "stderr",
     "output_type": "stream",
     "text": [
      "\r",
      " 92%|███████████████████████████████████████████████████████████████████████████▍      | 46/50 [24:41<01:54, 28.63s/it]"
     ]
    },
    {
     "name": "stdout",
     "output_type": "stream",
     "text": [
      "Epoch 46/50: Train_loss = 0.00980808213353157, Val_loss = 1.8797857761383057, Val_acc = 0.8144109471883686\n"
     ]
    },
    {
     "name": "stderr",
     "output_type": "stream",
     "text": [
      "\r",
      " 94%|█████████████████████████████████████████████████████████████████████████████     | 47/50 [25:10<01:25, 28.61s/it]"
     ]
    },
    {
     "name": "stdout",
     "output_type": "stream",
     "text": [
      "Epoch 47/50: Train_loss = 0.007214368786662817, Val_loss = 1.8848743438720703, Val_acc = 0.8191148171905067\n",
      "Epoch 48/50: Train_loss = 0.011140819638967514, Val_loss = 1.6599799394607544, Val_acc = 0.8161214453709643\n"
     ]
    },
    {
     "name": "stderr",
     "output_type": "stream",
     "text": [
      " 98%|████████████████████████████████████████████████████████████████████████████████▎ | 49/50 [26:46<00:39, 39.67s/it]"
     ]
    },
    {
     "name": "stdout",
     "output_type": "stream",
     "text": [
      "Epoch 49/50: Train_loss = 0.007021911442279816, Val_loss = 2.05322527885437, Val_acc = 0.8141971349155441\n",
      "Epoch 50/50: Train_loss = 0.009620382450520992, Val_loss = 1.9630388021469116, Val_acc = 0.8146247594611931\n"
     ]
    },
    {
     "name": "stderr",
     "output_type": "stream",
     "text": [
      "100%|██████████████████████████████████████████████████████████████████████████████████| 50/50 [27:31<00:00, 33.04s/it]\n"
     ]
    }
   ],
   "source": [
    "train(model, optimizer, loss_fn, train_loader, val_loader, params, 'experiments/first_test')"
   ]
  },
  {
   "cell_type": "code",
   "execution_count": null,
   "id": "e8623dd9",
   "metadata": {},
   "outputs": [],
   "source": []
  }
 ],
 "metadata": {
  "kernelspec": {
   "display_name": "Python 3 (ipykernel)",
   "language": "python",
   "name": "python3"
  },
  "language_info": {
   "codemirror_mode": {
    "name": "ipython",
    "version": 3
   },
   "file_extension": ".py",
   "mimetype": "text/x-python",
   "name": "python",
   "nbconvert_exporter": "python",
   "pygments_lexer": "ipython3",
   "version": "3.11.2"
  }
 },
 "nbformat": 4,
 "nbformat_minor": 5
}
