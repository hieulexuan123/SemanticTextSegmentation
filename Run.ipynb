{
 "cells": [
  {
   "cell_type": "code",
   "execution_count": 1,
   "id": "f6b7a11d",
   "metadata": {},
   "outputs": [],
   "source": [
    "import torch\n",
    "from model.data_loader import get_data_loader"
   ]
  },
  {
   "cell_type": "code",
   "execution_count": 2,
   "id": "3d4d40e1",
   "metadata": {},
   "outputs": [],
   "source": [
    "batch_size = 32\n",
    "\n",
    "train_loader = get_data_loader('train', batch_size=batch_size, shuffle=True)\n",
    "val_loader = get_data_loader('val', batch_size=batch_size, shuffle=False)\n",
    "test_loader = get_data_loader('test', batch_size=batch_size, shuffle=False)"
   ]
  },
  {
   "cell_type": "code",
   "execution_count": 3,
   "id": "b54d2635",
   "metadata": {},
   "outputs": [
    {
     "name": "stdout",
     "output_type": "stream",
     "text": [
      "38 5 5\n"
     ]
    }
   ],
   "source": [
    "print(len(train_loader), len(val_loader), len(test_loader))"
   ]
  },
  {
   "cell_type": "code",
   "execution_count": 4,
   "id": "3bfd90a2",
   "metadata": {},
   "outputs": [
    {
     "name": "stdout",
     "output_type": "stream",
     "text": [
      "torch.Size([32, 33, 768]) torch.Size([32, 33]) torch.Size([32, 33])\n",
      "torch.Size([32, 26, 768]) torch.Size([32, 26]) torch.Size([32, 26])\n",
      "torch.Size([32, 27, 768]) torch.Size([32, 27]) torch.Size([32, 27])\n",
      "torch.Size([32, 24, 768]) torch.Size([32, 24]) torch.Size([32, 24])\n",
      "torch.Size([32, 30, 768]) torch.Size([32, 30]) torch.Size([32, 30])\n",
      "torch.Size([32, 28, 768]) torch.Size([32, 28]) torch.Size([32, 28])\n",
      "torch.Size([32, 24, 768]) torch.Size([32, 24]) torch.Size([32, 24])\n",
      "torch.Size([32, 24, 768]) torch.Size([32, 24]) torch.Size([32, 24])\n",
      "torch.Size([32, 25, 768]) torch.Size([32, 25]) torch.Size([32, 25])\n",
      "torch.Size([32, 28, 768]) torch.Size([32, 28]) torch.Size([32, 28])\n",
      "torch.Size([32, 28, 768]) torch.Size([32, 28]) torch.Size([32, 28])\n",
      "torch.Size([32, 30, 768]) torch.Size([32, 30]) torch.Size([32, 30])\n",
      "torch.Size([32, 32, 768]) torch.Size([32, 32]) torch.Size([32, 32])\n",
      "torch.Size([32, 28, 768]) torch.Size([32, 28]) torch.Size([32, 28])\n",
      "torch.Size([32, 28, 768]) torch.Size([32, 28]) torch.Size([32, 28])\n",
      "torch.Size([32, 29, 768]) torch.Size([32, 29]) torch.Size([32, 29])\n",
      "torch.Size([32, 27, 768]) torch.Size([32, 27]) torch.Size([32, 27])\n",
      "torch.Size([32, 25, 768]) torch.Size([32, 25]) torch.Size([32, 25])\n",
      "torch.Size([32, 27, 768]) torch.Size([32, 27]) torch.Size([32, 27])\n",
      "torch.Size([32, 30, 768]) torch.Size([32, 30]) torch.Size([32, 30])\n",
      "torch.Size([32, 24, 768]) torch.Size([32, 24]) torch.Size([32, 24])\n",
      "torch.Size([32, 23, 768]) torch.Size([32, 23]) torch.Size([32, 23])\n",
      "torch.Size([32, 27, 768]) torch.Size([32, 27]) torch.Size([32, 27])\n",
      "torch.Size([32, 28, 768]) torch.Size([32, 28]) torch.Size([32, 28])\n",
      "torch.Size([32, 30, 768]) torch.Size([32, 30]) torch.Size([32, 30])\n",
      "torch.Size([32, 30, 768]) torch.Size([32, 30]) torch.Size([32, 30])\n",
      "torch.Size([32, 26, 768]) torch.Size([32, 26]) torch.Size([32, 26])\n",
      "torch.Size([32, 29, 768]) torch.Size([32, 29]) torch.Size([32, 29])\n",
      "torch.Size([32, 29, 768]) torch.Size([32, 29]) torch.Size([32, 29])\n",
      "torch.Size([32, 25, 768]) torch.Size([32, 25]) torch.Size([32, 25])\n",
      "torch.Size([32, 24, 768]) torch.Size([32, 24]) torch.Size([32, 24])\n",
      "torch.Size([32, 35, 768]) torch.Size([32, 35]) torch.Size([32, 35])\n",
      "torch.Size([32, 28, 768]) torch.Size([32, 28]) torch.Size([32, 28])\n",
      "torch.Size([32, 32, 768]) torch.Size([32, 32]) torch.Size([32, 32])\n",
      "torch.Size([32, 24, 768]) torch.Size([32, 24]) torch.Size([32, 24])\n",
      "torch.Size([32, 30, 768]) torch.Size([32, 30]) torch.Size([32, 30])\n",
      "torch.Size([32, 34, 768]) torch.Size([32, 34]) torch.Size([32, 34])\n",
      "torch.Size([12, 24, 768]) torch.Size([12, 24]) torch.Size([12, 24])\n"
     ]
    }
   ],
   "source": [
    "for embeddings, labels, masks in train_loader:\n",
    "     print(embeddings.size(), labels.size(), masks.size())"
   ]
  },
  {
   "cell_type": "code",
   "execution_count": 21,
   "id": "2c38e0ed",
   "metadata": {},
   "outputs": [],
   "source": [
    "from model.net import LSTM_CRF_Model\n",
    "import torch.optim as optim\n",
    "model = LSTM_CRF_Model(hidden_dim=512, num_layers=2, dropout=0.3)\n",
    "optimizer = optim.Adam(model.parameters(), lr=0.01)"
   ]
  },
  {
   "cell_type": "code",
   "execution_count": 22,
   "id": "85d6c004",
   "metadata": {
    "scrolled": true
   },
   "outputs": [
    {
     "name": "stderr",
     "output_type": "stream",
     "text": [
      "  0%|                                                                                           | 0/10 [00:00<?, ?it/s]C:\\Users\\Admin\\AppData\\Local\\Programs\\Python\\Python311\\Lib\\site-packages\\sklearn\\metrics\\_classification.py:1469: UndefinedMetricWarning: Precision is ill-defined and being set to 0.0 in labels with no predicted samples. Use `zero_division` parameter to control this behavior.\n",
      "  _warn_prf(average, modifier, msg_start, len(result))\n",
      " 10%|████████▎                                                                          | 1/10 [00:11<01:39, 11.02s/it]"
     ]
    },
    {
     "name": "stdout",
     "output_type": "stream",
     "text": [
      "Epoch 1/10, Training Loss: 316.0137037979929, Val loss: 247.0234802246094, Val precision: 0.5943255254322809, Val recall: 0.7709251101321586, Val F1: 0.671203454095163\n"
     ]
    },
    {
     "name": "stderr",
     "output_type": "stream",
     "text": [
      "\r",
      " 20%|████████████████▌                                                                  | 2/10 [00:22<01:31, 11.47s/it]"
     ]
    },
    {
     "name": "stdout",
     "output_type": "stream",
     "text": [
      "Epoch 2/10, Training Loss: 245.27550446359734, Val loss: 230.12290649414064, Val precision: 0.8613845775561266, Val recall: 0.8309971966359632, Val F1: 0.7899544633511867\n",
      "saved second_test\n"
     ]
    },
    {
     "name": "stderr",
     "output_type": "stream",
     "text": [
      "\r",
      " 30%|████████████████████████▉                                                          | 3/10 [00:42<01:46, 15.25s/it]"
     ]
    },
    {
     "name": "stdout",
     "output_type": "stream",
     "text": [
      "Epoch 3/10, Training Loss: 222.34951099596526, Val loss: 206.7053192138672, Val precision: 0.8613845775561266, Val recall: 0.8309971966359632, Val F1: 0.7899544633511867\n"
     ]
    },
    {
     "name": "stderr",
     "output_type": "stream",
     "text": [
      "\r",
      " 40%|█████████████████████████████████▏                                                 | 4/10 [00:58<01:32, 15.40s/it]"
     ]
    },
    {
     "name": "stdout",
     "output_type": "stream",
     "text": [
      "Epoch 4/10, Training Loss: 207.52041726363333, Val loss: 198.25225524902345, Val precision: 0.8140790100943779, Val recall: 0.8269923908690429, Val F1: 0.8138324180685046\n",
      "saved second_test\n"
     ]
    },
    {
     "name": "stderr",
     "output_type": "stream",
     "text": [
      "\r",
      " 50%|█████████████████████████████████████████▌                                         | 5/10 [01:14<01:19, 15.80s/it]"
     ]
    },
    {
     "name": "stdout",
     "output_type": "stream",
     "text": [
      "Epoch 5/10, Training Loss: 201.50367837203177, Val loss: 194.29483337402343, Val precision: 0.8162020319967849, Val recall: 0.828594313175811, Val F1: 0.8164196261237567\n"
     ]
    },
    {
     "name": "stderr",
     "output_type": "stream",
     "text": [
      "\r",
      " 60%|█████████████████████████████████████████████████▊                                 | 6/10 [01:30<01:02, 15.68s/it]"
     ]
    },
    {
     "name": "stdout",
     "output_type": "stream",
     "text": [
      "Epoch 6/10, Training Loss: 195.15927103946083, Val loss: 188.55429382324218, Val precision: 0.8390827613826247, Val recall: 0.8406087304765719, Val F1: 0.8171505611802389\n",
      "saved second_test\n"
     ]
    },
    {
     "name": "stderr",
     "output_type": "stream",
     "text": [
      "\r",
      " 70%|██████████████████████████████████████████████████████████                         | 7/10 [01:47<00:48, 16.17s/it]"
     ]
    },
    {
     "name": "stdout",
     "output_type": "stream",
     "text": [
      "Epoch 7/10, Training Loss: 190.6823487532766, Val loss: 191.59692993164063, Val precision: 0.8118989286180327, Val recall: 0.8209851822186623, Val F1: 0.8148924104616149\n"
     ]
    },
    {
     "name": "stderr",
     "output_type": "stream",
     "text": [
      "\r",
      " 80%|██████████████████████████████████████████████████████████████████▍                | 8/10 [02:03<00:32, 16.27s/it]"
     ]
    },
    {
     "name": "stdout",
     "output_type": "stream",
     "text": [
      "Epoch 8/10, Training Loss: 188.19501816598992, Val loss: 184.6497833251953, Val precision: 0.8413641945428602, Val recall: 0.8414096916299559, Val F1: 0.8173907936077232\n",
      "saved second_test\n"
     ]
    },
    {
     "name": "stderr",
     "output_type": "stream",
     "text": [
      "\r",
      " 90%|██████████████████████████████████████████████████████████████████████████▋        | 9/10 [02:19<00:16, 16.20s/it]"
     ]
    },
    {
     "name": "stdout",
     "output_type": "stream",
     "text": [
      "Epoch 9/10, Training Loss: 183.4289181357936, Val loss: 185.20897521972657, Val precision: 0.8304646772778456, Val recall: 0.8398077693231878, Val F1: 0.8239846952301226\n"
     ]
    },
    {
     "name": "stderr",
     "output_type": "stream",
     "text": [
      "100%|██████████████████████████████████████████████████████████████████████████████████| 10/10 [02:36<00:00, 15.65s/it]"
     ]
    },
    {
     "name": "stdout",
     "output_type": "stream",
     "text": [
      "Epoch 10/10, Training Loss: 179.70971418681899, Val loss: 183.99215087890624, Val precision: 0.8390399500255965, Val recall: 0.8434120945134161, Val F1: 0.8234492886920803\n",
      "saved second_test\n"
     ]
    },
    {
     "name": "stderr",
     "output_type": "stream",
     "text": [
      "\n"
     ]
    }
   ],
   "source": [
    "from train_val import *\n",
    "\n",
    "train_and_validate(model, train_loader, val_loader, optimizer, 10, saved_filename=\"second_test\", saved_dir=\"experiments/second_test\")"
   ]
  },
  {
   "cell_type": "code",
   "execution_count": 25,
   "id": "af0b8cb8",
   "metadata": {},
   "outputs": [
    {
     "name": "stdout",
     "output_type": "stream",
     "text": [
      "loading second_test.epoch10\n",
      "epoch 10, train_loss=179.70971418681899, val_loss=183.99215087890624\n"
     ]
    },
    {
     "name": "stderr",
     "output_type": "stream",
     "text": [
      " 10%|████████▎                                                                          | 1/10 [00:11<01:41, 11.30s/it]"
     ]
    },
    {
     "name": "stdout",
     "output_type": "stream",
     "text": [
      "Epoch 11/20, Training Loss: 173.51421938444437, Val loss: 187.21993103027344, Val precision: 0.8271421753860513, Val recall: 0.8378053664397277, Val F1: 0.826365427764047\n"
     ]
    },
    {
     "name": "stderr",
     "output_type": "stream",
     "text": [
      "\r",
      " 20%|████████████████▌                                                                  | 2/10 [00:26<01:46, 13.34s/it]"
     ]
    },
    {
     "name": "stdout",
     "output_type": "stream",
     "text": [
      "Epoch 12/20, Training Loss: 164.97411185816713, Val loss: 187.8483917236328, Val precision: 0.8264158341062113, Val recall: 0.8366039247096516, Val F1: 0.8202768913853754\n",
      "saved second_test\n"
     ]
    },
    {
     "name": "stderr",
     "output_type": "stream",
     "text": [
      "\r",
      " 30%|████████████████████████▉                                                          | 3/10 [00:43<01:45, 15.05s/it]"
     ]
    },
    {
     "name": "stdout",
     "output_type": "stream",
     "text": [
      "Epoch 13/20, Training Loss: 157.49734065407202, Val loss: 193.2159210205078, Val precision: 0.8224649721509784, Val recall: 0.8329995995194233, Val F1: 0.8240613647829581\n"
     ]
    },
    {
     "name": "stderr",
     "output_type": "stream",
     "text": [
      "\r",
      " 40%|█████████████████████████████████▏                                                 | 4/10 [00:59<01:33, 15.63s/it]"
     ]
    },
    {
     "name": "stdout",
     "output_type": "stream",
     "text": [
      "Epoch 14/20, Training Loss: 142.04528627897562, Val loss: 199.01964416503907, Val precision: 0.819477477937843, Val recall: 0.8313976772126552, Val F1: 0.8191697104597896\n",
      "saved second_test\n"
     ]
    },
    {
     "name": "stderr",
     "output_type": "stream",
     "text": [
      "\r",
      " 50%|█████████████████████████████████████████▌                                         | 5/10 [01:15<01:18, 15.76s/it]"
     ]
    },
    {
     "name": "stdout",
     "output_type": "stream",
     "text": [
      "Epoch 15/20, Training Loss: 134.01345965736792, Val loss: 214.73289489746094, Val precision: 0.8204455540474844, Val recall: 0.8309971966359632, Val F1: 0.8110693259719152\n"
     ]
    },
    {
     "name": "stderr",
     "output_type": "stream",
     "text": [
      "\r",
      " 60%|█████████████████████████████████████████████████▊                                 | 6/10 [01:32<01:04, 16.02s/it]"
     ]
    },
    {
     "name": "stdout",
     "output_type": "stream",
     "text": [
      "Epoch 16/20, Training Loss: 122.93941618266858, Val loss: 212.3077362060547, Val precision: 0.8185593023220854, Val recall: 0.8305967160592711, Val F1: 0.8184799513597116\n",
      "saved second_test\n"
     ]
    },
    {
     "name": "stderr",
     "output_type": "stream",
     "text": [
      "\r",
      " 70%|██████████████████████████████████████████████████████████                         | 7/10 [01:49<00:48, 16.29s/it]"
     ]
    },
    {
     "name": "stdout",
     "output_type": "stream",
     "text": [
      "Epoch 17/20, Training Loss: 111.47329752068771, Val loss: 226.56228332519532, Val precision: 0.8202862043738618, Val recall: 0.8321986383660392, Val F1: 0.8184781801175582\n"
     ]
    },
    {
     "name": "stderr",
     "output_type": "stream",
     "text": [
      "\r",
      " 80%|██████████████████████████████████████████████████████████████████▍                | 8/10 [02:06<00:33, 16.54s/it]"
     ]
    },
    {
     "name": "stdout",
     "output_type": "stream",
     "text": [
      "Epoch 18/20, Training Loss: 99.36639223600689, Val loss: 235.8855407714844, Val precision: 0.8096865871651855, Val recall: 0.8209851822186623, Val F1: 0.812511212390909\n",
      "saved second_test\n"
     ]
    },
    {
     "name": "stderr",
     "output_type": "stream",
     "text": [
      "\r",
      " 90%|██████████████████████████████████████████████████████████████████████████▋        | 9/10 [02:24<00:17, 17.11s/it]"
     ]
    },
    {
     "name": "stdout",
     "output_type": "stream",
     "text": [
      "Epoch 19/20, Training Loss: 92.51441684522126, Val loss: 250.32928161621095, Val precision: 0.8121013892223661, Val recall: 0.8249899879855827, Val F1: 0.8046805104159096\n"
     ]
    },
    {
     "name": "stderr",
     "output_type": "stream",
     "text": [
      "100%|██████████████████████████████████████████████████████████████████████████████████| 10/10 [02:40<00:00, 16.07s/it]"
     ]
    },
    {
     "name": "stdout",
     "output_type": "stream",
     "text": [
      "Epoch 20/20, Training Loss: 86.07290267944336, Val loss: 245.5617462158203, Val precision: 0.8063508332139759, Val recall: 0.816980376451742, Val F1: 0.8095599761588883\n",
      "saved second_test\n"
     ]
    },
    {
     "name": "stderr",
     "output_type": "stream",
     "text": [
      "\n"
     ]
    }
   ],
   "source": [
    "train_and_validate(model, train_loader, val_loader, optimizer, 10, \"second_test\", \"experiments/second_test\", \"second_test.epoch10\", \"experiments/second_test\")"
   ]
  },
  {
   "cell_type": "code",
   "execution_count": 34,
   "id": "4b3f377c",
   "metadata": {},
   "outputs": [
    {
     "name": "stdout",
     "output_type": "stream",
     "text": [
      "loading first_test.epoch10\n",
      "epoch 10, train_loss=163.6112137844688, val_loss=189.05754699707032\n"
     ]
    },
    {
     "data": {
      "text/plain": [
       "10"
      ]
     },
     "execution_count": 34,
     "metadata": {},
     "output_type": "execute_result"
    }
   ],
   "source": [
    "model = LSTM_CRF_Model(hidden_dim=256, num_layers=3, dropout=0.5)\n",
    "load_checkpoint(\"first_test.epoch10\", \"experiments/first_test\", model)"
   ]
  },
  {
   "cell_type": "code",
   "execution_count": 7,
   "id": "c29584d7",
   "metadata": {},
   "outputs": [],
   "source": [
    "from sentence_transformers import SentenceTransformer\n",
    "\n",
    "def inference(sentences, model):\n",
    "    sentenceEncoder = SentenceTransformer('bkai-foundation-models/vietnamese-bi-encoder')\n",
    "    embeds = torch.tensor(sentenceEncoder.encode(sentences)).unsqueeze(0)\n",
    "    return model.predict(model(embeds))"
   ]
  },
  {
   "cell_type": "code",
   "execution_count": 35,
   "id": "8d1bb978",
   "metadata": {},
   "outputs": [
    {
     "name": "stdout",
     "output_type": "stream",
     "text": [
      "[[1, 0, 0, 0, 0, 1, 0, 0, 0, 0, 0, 1, 0, 0]]\n"
     ]
    }
   ],
   "source": [
    "sentences =[\n",
    "            \"Sau khi Ngân hàng TMCP Sài Gòn Thương Tín (Sacombank) phát đi thông điệp cứng rắn, tối 10/5 ông Đặng Tất Thắng (Facebooker Thang Dang), cựu Chủ tịch FLC, cựu CEO Bamboo Airways chính thức lên tiếng xin lỗi vì đã xúc phạm Chủ tịch Sacombank Dương Công Minh và HĐQT ngân hàng này.\",\n",
    "            \"Trên trang Facebook cá nhân, ông Đặng Tất Thắng viết lời xin lỗi công khai và khẳng định: Trong kinh doanh, việc xảy ra những mâu thuẫn phát sinh do xung đột lợi ích và quyền lợi của các bên liên quan là khó tránh khỏi.\",\n",
    "            \"Ông Thắng cho rằng đây là vấn đề cá nhân, tuy nhiên vì quá \\\"cảm xúc\\\" nên đã công khai thông tin qua trang cá nhân Facebook và những nhận định này có thể làm ảnh hưởng tới Sacombank và tâm lý các lãnh đạo, cổ đông, khách hàng của ngân hàng này.\",\n",
    "            \"\\\"Tôi xin được công khai xin lỗi trên Facebook với những pháp danh và pháp nhân này. Tôi xin được để post này 72 tiếng và sau đó cũng sẽ tạm dừng việc sử dụng Mạng xã hội Facebook để tập trung cho các dự án của ATB Investment & Partners cùng các cộng sự của tôi\\\", ông Thắng viết.\",\n",
    "            \"Cựu CEO Bamboo Airways cũng bày tỏ mong muốn qua lời xin lỗi này sẽ kết thúc những tranh luận \\\"không đáng có và thiếu căn cứ\\\" trên mạng xã hội mấy ngày vừa qua về sự cố đáng tiếc trên.\",\n",
    "            \"Trước đó, dựa theo một số clip lan truyền trên mạng ghi lại việc cổ đông chất vấn HĐQT Sacombank về việc ngân hàng không chia cổ tức, ông Đặng Tất Thắng đã viết trên trang cá nhân: \\\"Làm ngân hàng dù ở bất cứ đâu trên thế giới này là lãi nhất rồi mà cổ đông không được chia cổ tức trong 7 năm thì đúng Chủ tịch Sacombank là người bất tài.\",\n",
    "            \"Anh này với mình còn là người không có đức,…”\",\n",
    "            \"Mặc dù ông Thắng đã xoá post này, nhưng phía Sacombank cho rằng những lời lẽ trên là hành vi xúc phạm nghiêm trọng đến danh dự, hình ảnh của lãnh đạo Sacombank, làm ảnh hưởng đến uy tín, thương hiệu của ngân hàng.\",\n",
    "            \"Do đó, Sacombank kiến nghị cơ quan chức năng xử lý theo quy định của pháp luật.\",\n",
    "            \"Sacombank cho biết, hoạt động kinh doanh của ngân hàng từ năm 2017 đến nay liên tục có lợi nhuận.\",\n",
    "            \"Lợi nhuận hợp nhất giữ lại lũy kế đến 2022 là 12.672 tỷ đồng.\",\n",
    "            \"Việc Sacombank chưa thực hiện việc chia cổ tức là thực hiện theo quyết định của Ngân hàng Nhà nước đối với một ngân hàng đang trong diện phải tái cơ cấu.\",\n",
    "            \"Hiện, ban lãnh đạo Sacombank đang nỗ lực để sớm hoàn thành Đề án tái cơ cấu ngân hàng theo phê duyệt của Chính phủ và Ngân hàng Nhà nước để đề nghị Ngân hàng Nhà nước sớm chấp thuận chia cổ tức cho cổ đông.\",\n",
    "            \"Mọi khoản lợi nhuận vẫn còn nguyên đó.\"\n",
    "        ]\n",
    "\n",
    "tags = inference(sentences, model)\n",
    "print(tags)"
   ]
  },
  {
   "cell_type": "code",
   "execution_count": 36,
   "id": "4da5ea71",
   "metadata": {},
   "outputs": [
    {
     "name": "stdout",
     "output_type": "stream",
     "text": [
      "[[1, 0, 0, 1, 0, 1, 0, 1, 0]]\n"
     ]
    }
   ],
   "source": [
    "sentences =[\n",
    "            \"Căn cứ phương thức vận hành nguồn, lưới điện trong dịp lễ Quốc khánh 2/9 của các đơn vị thành viên, Tổng công ty Điện lực miền Trung (EVNCPC) dự báo công suất phụ tải cực đại tại 13 tỉnh, thành phố miền Trung - Tây Nguyên ước đạt 2.915MW, tăng 6,5% so với cùng kỳ, với sản lượng ước đạt 63,4 triệu kWh.\",\n",
    "            \"Ông Lê Hoàng Anh Dũng - Phó tổng giám đốc EVNCPC - cho biết để chuẩn bị sẵn sàng phương án đảm bảo cung cấp điện, EVNCPC yêu cầu các đơn vị thành viên tuân thủ chặt chẽ các chỉ đạo của EVN và triển khai công tác chuẩn bị nguồn lưới điện đảm bảo điện trong thời gian nghỉ lễ Quốc khánh.\",\n",
    "            \"Đến nay, các đơn vị đã triển khai thực hiện bố trí phương thức vận hành nguồn, lưới điện hợp lý đảm bảo an toàn, tin cậy trong điều kiện bình thường và linh hoạt chuyển đổi trong tình huống sự cố; ưu tiên đảm bảo điện tại các địa điểm diễn ra các hoạt động chính trị, văn hóa của các địa phương.\",\n",
    "            \"Các đơn vị cũng đã chủ động làm việc với UBND các tỉnh, thành phố trực thuộc trung ương để nắm bắt thời gian, địa điểm tổ chức các sự kiện, đảm bảo cung cấp điện ổn định, đảm bảo thực hiện tốt công tác kinh doanh, dịch vụ khách hàng trong các ngày lễ.\",\n",
    "            \"Các đơn vị tăng cường kiểm tra, phát hiện và xử lý kịp thời các khiếm khuyết của thiết bị nguồn, lưới điện, trạm biến áp 110kV, hệ thống SCADA, đồng thời thực hiện phát quang đảm bảo an toàn hành lang tuyến, tuyên truyền ngăn ngừa các trường hợp thả diều gần đường dây mang điện, các hành vi bắn pháo giấy tráng kim loại và ném các vật lên đường dây vi phạm hành lang an toàn lưới điện…\",\n",
    "            \"Các công ty điện lực tổ chức trực tăng cường đối với lãnh đạo, trực tổ thao tác lưu động, trực vận hành, sửa chữa điện, trực xử lý sự cố hệ thống mạng viễn thông dùng riêng trong các ngày nghỉ lễ; chuẩn bị đầy đủ vật tư, thiết bị dự phòng, nhiên liệu, hệ thống thông tin liên lạc và phương tiện đi lại, sẵn sàng xử lý nhanh các hư hỏng và sự cố.\",\n",
    "            \"Trung tâm Chăm sóc khách hàng Điện lực miền Trung tăng cường lực lượng trực tổng đài 19001909 để tiếp nhận và xử lý tốt các thông tin liên quan đến việc cung cấp điện trên địa bàn, trả lời kịp thời cho khách hàng trong các ngày nghỉ lễ.\",\n",
    "            \"\\\"EVNCPC đã và đang tích cực thực hiện mọi biện pháp để đảm bảo cung cấp điện ổn định và an toàn cho dịp lễ Quốc khánh.\",\n",
    "            \"Chúng tôi cũng khuyến cáo khách hàng sử dụng điện nếu mọi người trong gia đình đều đi du lịch trong kỳ nghỉ dịp Quốc khánh này thì nên chú ý tắt nguồn điện của các thiết bị điện không sử dụng để vừa tránh nguy cơ xảy ra sự cố cháy nổ do chạm chập điện, vừa tránh lãng phí điện năng khi không sử dụng\\\", ông Lê Hoàng Anh Dũng cho hay.\"\n",
    "        ]\n",
    "\n",
    "tags = inference(sentences, model)\n",
    "print(tags)"
   ]
  },
  {
   "cell_type": "code",
   "execution_count": 37,
   "id": "3df15580",
   "metadata": {},
   "outputs": [
    {
     "name": "stdout",
     "output_type": "stream",
     "text": [
      "test_loss = 193.24967346191406, test_precision=0.8068402672928907, test_recall=0.8164481525625745, test_f1=0.8102910560691431\n"
     ]
    }
   ],
   "source": [
    "avg_loss, precision, recall, f1 = validate_model(model, test_loader)\n",
    "print(f\"test_loss = {avg_loss}, test_precision={precision}, test_recall={recall}, test_f1={f1}\")"
   ]
  }
 ],
 "metadata": {
  "kernelspec": {
   "display_name": "Python 3 (ipykernel)",
   "language": "python",
   "name": "python3"
  },
  "language_info": {
   "codemirror_mode": {
    "name": "ipython",
    "version": 3
   },
   "file_extension": ".py",
   "mimetype": "text/x-python",
   "name": "python",
   "nbconvert_exporter": "python",
   "pygments_lexer": "ipython3",
   "version": "3.11.2"
  }
 },
 "nbformat": 4,
 "nbformat_minor": 5
}
